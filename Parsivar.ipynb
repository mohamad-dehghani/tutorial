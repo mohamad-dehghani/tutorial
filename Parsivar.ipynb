{
  "cells": [
    {
      "cell_type": "code",
      "execution_count": 1,
      "metadata": {
        "id": "A7MHoYiTEaXR",
        "outputId": "49764495-0d46-4f6f-c765-280c96308c43",
        "colab": {
          "base_uri": "https://localhost:8080/"
        }
      },
      "outputs": [
        {
          "output_type": "stream",
          "name": "stdout",
          "text": [
            "3.7.12\n"
          ]
        }
      ],
      "source": [
        "from platform import python_version\n",
        "\n",
        "print(python_version())"
      ]
    },
    {
      "cell_type": "code",
      "execution_count": 2,
      "metadata": {
        "id": "fg71jwd1ggP_",
        "outputId": "b4bb116a-9d5f-4c28-db0c-b701f5e5f496",
        "colab": {
          "base_uri": "https://localhost:8080/"
        }
      },
      "outputs": [
        {
          "output_type": "stream",
          "name": "stdout",
          "text": [
            "Collecting libwapiti\n",
            "  Downloading libwapiti-0.2.1.tar.gz (233 kB)\n",
            "\u001b[K     |████████████████████████████████| 233 kB 2.7 MB/s \n",
            "\u001b[?25hCollecting parsivar\n",
            "  Downloading parsivar-0.2.3.tar.gz (36.2 MB)\n",
            "\u001b[K     |████████████████████████████████| 36.2 MB 198 kB/s \n",
            "\u001b[?25hRequirement already satisfied: six in /usr/local/lib/python3.7/dist-packages (from libwapiti) (1.15.0)\n",
            "Collecting nltk==3.4.5\n",
            "  Downloading nltk-3.4.5.zip (1.5 MB)\n",
            "\u001b[K     |████████████████████████████████| 1.5 MB 48.9 MB/s \n",
            "\u001b[?25hBuilding wheels for collected packages: libwapiti, parsivar, nltk\n",
            "  Building wheel for libwapiti (setup.py) ... \u001b[?25l\u001b[?25hdone\n",
            "  Created wheel for libwapiti: filename=libwapiti-0.2.1-cp37-cp37m-linux_x86_64.whl size=154272 sha256=8d07620ebde1fcd69ef4524400957f69268b02c73f7b71884e9291702b72020c\n",
            "  Stored in directory: /root/.cache/pip/wheels/ab/b2/5b/0fe4b8f5c0e65341e8ea7bb3f4a6ebabfe8b1ac31322392dbf\n",
            "  Building wheel for parsivar (setup.py) ... \u001b[?25l\u001b[?25hdone\n",
            "  Created wheel for parsivar: filename=parsivar-0.2.3-py3-none-any.whl size=36492972 sha256=d089857da0d9a14dbe4091cc199801bbc57f60c739419aff030b33b1ac9c39aa\n",
            "  Stored in directory: /root/.cache/pip/wheels/ae/67/7a/49cbf08f64d3f76a26eceaf0e481a40e233f05d4356875cbed\n",
            "  Building wheel for nltk (setup.py) ... \u001b[?25l\u001b[?25hdone\n",
            "  Created wheel for nltk: filename=nltk-3.4.5-py3-none-any.whl size=1449923 sha256=5679da951f466b3b64f6a2f7e0029c7b173eaac05a9ac0519335ee067e3d61c6\n",
            "  Stored in directory: /root/.cache/pip/wheels/48/8b/7f/473521e0c731c6566d631b281f323842bbda9bd819eb9a3ead\n",
            "Successfully built libwapiti parsivar nltk\n",
            "Installing collected packages: nltk, parsivar, libwapiti\n",
            "  Attempting uninstall: nltk\n",
            "    Found existing installation: nltk 3.2.5\n",
            "    Uninstalling nltk-3.2.5:\n",
            "      Successfully uninstalled nltk-3.2.5\n",
            "Successfully installed libwapiti-0.2.1 nltk-3.4.5 parsivar-0.2.3\n"
          ]
        }
      ],
      "source": [
        "!pip install libwapiti parsivar"
      ]
    },
    {
      "cell_type": "code",
      "execution_count": 3,
      "metadata": {
        "id": "wu_yMXSBggQB",
        "outputId": "694f25e4-7f28-45b0-8fae-abcbb3968f7a",
        "colab": {
          "base_uri": "https://localhost:8080/"
        }
      },
      "outputs": [
        {
          "output_type": "stream",
          "name": "stdout",
          "text": [
            "Name: libwapiti\n",
            "Version: 0.2.1\n",
            "Summary: Python bindings for libwapiti\n",
            "Home-page: UNKNOWN\n",
            "Author: Adam Svanberg\n",
            "Author-email: asvanberg@gmail.com\n",
            "License: UNKNOWN\n",
            "Location: /usr/local/lib/python3.7/dist-packages\n",
            "Requires: six\n",
            "Required-by: \n"
          ]
        }
      ],
      "source": [
        "pip show libwapiti"
      ]
    },
    {
      "cell_type": "code",
      "execution_count": 4,
      "metadata": {
        "id": "967DFikdEaXV"
      },
      "outputs": [],
      "source": [
        "from parsivar import Normalizer"
      ]
    },
    {
      "cell_type": "code",
      "execution_count": 5,
      "metadata": {
        "id": "QIqmKYv9EaXW"
      },
      "outputs": [],
      "source": [
        "my_normalizer = Normalizer()"
      ]
    },
    {
      "cell_type": "code",
      "execution_count": 6,
      "metadata": {
        "id": "065EJ_DvEaXW"
      },
      "outputs": [],
      "source": [
        "text = \"\"\"محمد دهقانی علاقه ی زیادی به کار با مت ون پارسی دارد.\n",
        "علاقه دیگر وی، تحلیل داده 1 می باشد.\n",
        "حال عمدا واژه ی صبر را سبر می نویسد تا قدرت هضم را بررسی کنیم.\"\"\""
      ]
    },
    {
      "cell_type": "code",
      "execution_count": 7,
      "metadata": {
        "id": "Ansi4WpvggQG",
        "outputId": "388227e8-a884-461e-cc7c-20ee6a9dd6c7",
        "colab": {
          "base_uri": "https://localhost:8080/"
        }
      },
      "outputs": [
        {
          "output_type": "stream",
          "name": "stdout",
          "text": [
            "محمد دهقانی علاقه ی زیادی به کار با مت ون پارسی دارد.\n",
            "علاقه دیگر وی، تحلیل داده 1 می باشد.\n",
            "حال عمدا واژه ی صبر را سبر می نویسد تا قدرت هضم را بررسی کنیم.\n"
          ]
        }
      ],
      "source": [
        "print(text)"
      ]
    },
    {
      "cell_type": "code",
      "execution_count": 8,
      "metadata": {
        "id": "7y22zWoTEaXX",
        "outputId": "2f025cdb-ddfe-499e-ed8a-9943df98fbc7",
        "colab": {
          "base_uri": "https://localhost:8080/"
        }
      },
      "outputs": [
        {
          "output_type": "stream",
          "name": "stdout",
          "text": [
            "محمد دهقانی علاقه ی زیادی به کار با مت ون پارسی دارد .\n",
            " علاقه دیگر وی ، تحلیل داده 1 می‌باشد .\n",
            " حال عمدا واژه ی صبر را سبر می‌نویسد تا قدرت هضم را بررسی کنیم .\n"
          ]
        }
      ],
      "source": [
        "print(my_normalizer.normalize(text))"
      ]
    },
    {
      "cell_type": "code",
      "execution_count": 9,
      "metadata": {
        "id": "miFrBc3yEaXY"
      },
      "outputs": [],
      "source": [
        "my_normalizer = Normalizer(date_normalizing_needed=True)"
      ]
    },
    {
      "cell_type": "code",
      "execution_count": 10,
      "metadata": {
        "id": "pfvTEt7yEaXa",
        "outputId": "b3fc4c1d-a093-4c18-8479-809345b93c6e",
        "colab": {
          "base_uri": "https://localhost:8080/"
        }
      },
      "outputs": [
        {
          "output_type": "stream",
          "name": "stdout",
          "text": [
            "محمد دهقانی علاقه ی زیادی به کار با مت ون پارسی دارد . علاقه دیگر وی ، تحلیل داده 1 می‌باشد . حال عمدا واژه ی صبر را سبر می‌نویسد تا قدرت هضم را بررسی کنیم .\n"
          ]
        }
      ],
      "source": [
        "print(my_normalizer.normalize(text))"
      ]
    },
    {
      "cell_type": "code",
      "execution_count": 11,
      "metadata": {
        "id": "V8PhVBk3EaXa"
      },
      "outputs": [],
      "source": [
        " my_normalizer = Normalizer(pinglish_conversion_needed = True)"
      ]
    },
    {
      "cell_type": "code",
      "execution_count": 12,
      "metadata": {
        "id": "ysmg0M3xEaXc",
        "outputId": "9bba3062-1096-40a0-d329-d404bed00e4b",
        "colab": {
          "base_uri": "https://localhost:8080/"
        }
      },
      "outputs": [
        {
          "output_type": "stream",
          "name": "stdout",
          "text": [
            "هاله دلش ابری است .\n"
          ]
        }
      ],
      "source": [
        "print(my_normalizer.normalize(\"hale delash abri ast.\"))"
      ]
    },
    {
      "cell_type": "code",
      "execution_count": 13,
      "metadata": {
        "id": "OcUrCoIFEaXe"
      },
      "outputs": [],
      "source": [
        "from parsivar import Tokenizer"
      ]
    },
    {
      "cell_type": "code",
      "execution_count": 14,
      "metadata": {
        "id": "bJDneVrpEaXe"
      },
      "outputs": [],
      "source": [
        "my_tokenizer = Tokenizer()"
      ]
    },
    {
      "cell_type": "code",
      "execution_count": 15,
      "metadata": {
        "id": "Jffp-CvNEaXf"
      },
      "outputs": [],
      "source": [
        "sents = my_tokenizer.tokenize_sentences(my_normalizer.normalize(text))"
      ]
    },
    {
      "cell_type": "code",
      "execution_count": 16,
      "metadata": {
        "id": "PZXImMu3EaXg",
        "outputId": "edee53a0-51a6-484e-ec34-21c26b41a856",
        "colab": {
          "base_uri": "https://localhost:8080/"
        }
      },
      "outputs": [
        {
          "output_type": "stream",
          "name": "stdout",
          "text": [
            "['محمد دهقانی علاقه ی زیادی به کار با مت ون پارسی دارد  .', ' علاقه دیگر وی ، تحلیل داده 1 می\\u200cباشد  .', ' حال عمدا واژه ی صبر را سبر می\\u200cنویسد تا قدرت هضم را بررسی کنیم  .']\n"
          ]
        }
      ],
      "source": [
        "print(sents)"
      ]
    },
    {
      "cell_type": "code",
      "execution_count": 17,
      "metadata": {
        "id": "wjw8MNb-EaXg"
      },
      "outputs": [],
      "source": [
        "words = my_tokenizer.tokenize_words(my_normalizer.normalize(text))"
      ]
    },
    {
      "cell_type": "code",
      "execution_count": 18,
      "metadata": {
        "id": "IxyH2mnQEaXh",
        "outputId": "069cc436-b303-4649-bdc4-5beb5965128a",
        "colab": {
          "base_uri": "https://localhost:8080/"
        }
      },
      "outputs": [
        {
          "output_type": "stream",
          "name": "stdout",
          "text": [
            "['محمد', 'دهقانی', 'علاقه', 'ی', 'زیادی', 'به', 'کار', 'با', 'مت', 'ون', 'پارسی', 'دارد', '.', 'علاقه', 'دیگر', 'وی', '،', 'تحلیل', 'داده', '1', 'می\\u200cباشد', '.', 'حال', 'عمدا', 'واژه', 'ی', 'صبر', 'را', 'سبر', 'می\\u200cنویسد', 'تا', 'قدرت', 'هضم', 'را', 'بررسی', 'کنیم', '.']\n"
          ]
        }
      ],
      "source": [
        "print(words)"
      ]
    },
    {
      "cell_type": "code",
      "execution_count": 19,
      "metadata": {
        "id": "QIjOfJdmEaXi"
      },
      "outputs": [],
      "source": [
        "from parsivar import FindStems"
      ]
    },
    {
      "cell_type": "code",
      "execution_count": 20,
      "metadata": {
        "id": "16d7bPChEaXi"
      },
      "outputs": [],
      "source": [
        "my_stemmer = FindStems()"
      ]
    },
    {
      "cell_type": "code",
      "execution_count": 21,
      "metadata": {
        "id": "6EmsVnfBEaXi",
        "outputId": "2bc46fc3-d38b-44a6-d750-4cac59a07023",
        "colab": {
          "base_uri": "https://localhost:8080/"
        }
      },
      "outputs": [
        {
          "output_type": "stream",
          "name": "stdout",
          "text": [
            "آقا\n"
          ]
        }
      ],
      "source": [
        "print(my_stemmer.convert_to_stem(\"آقایان\"))"
      ]
    },
    {
      "cell_type": "code",
      "execution_count": 22,
      "metadata": {
        "id": "ewah3hP1EaXk",
        "outputId": "fb2708fe-0c1e-430b-cbe6-490c98779b34",
        "colab": {
          "base_uri": "https://localhost:8080/"
        }
      },
      "outputs": [
        {
          "output_type": "stream",
          "name": "stdout",
          "text": [
            "درختان >> درخت\n",
            "اژدها >> اژدها\n",
            "رفتارها >> رفتار\n",
            "برقص >> رقصید&رقص\n",
            "بنواز >> نواخت&نواز\n",
            "کفار >> کفار\n",
            "برآشفتن >> برآشفتن\n"
          ]
        }
      ],
      "source": [
        "word_tests = ['درختان' ,'اژدها' ,'رفتارها' ,'برقص' ,'بنواز' ,'کفار' ,'برآشفتن']\n",
        "for word in word_tests:\n",
        "    print(word, '>>', my_stemmer.convert_to_stem(word))"
      ]
    },
    {
      "cell_type": "code",
      "execution_count": 23,
      "metadata": {
        "id": "_hxR6vWoEaXk"
      },
      "outputs": [],
      "source": [
        "from parsivar import POSTagger"
      ]
    },
    {
      "cell_type": "code",
      "execution_count": 24,
      "metadata": {
        "id": "HCVWfIKiEaXk"
      },
      "outputs": [],
      "source": [
        "my_tagger = POSTagger(tagging_model=\"wapiti\")"
      ]
    },
    {
      "cell_type": "code",
      "execution_count": 25,
      "metadata": {
        "id": "xL1E3qygEaXl",
        "outputId": "8f5e04ad-60d8-4ee8-d704-80497b631dfb",
        "colab": {
          "base_uri": "https://localhost:8080/"
        }
      },
      "outputs": [
        {
          "output_type": "stream",
          "name": "stdout",
          "text": [
            "این سمینار تا 13 شهریور ادامه می‌یابد .\n"
          ]
        }
      ],
      "source": [
        "text = \"این سمینار تا 13 شهریور ادامه می‌یابد .\"\n",
        "print(text)"
      ]
    },
    {
      "cell_type": "code",
      "execution_count": 26,
      "metadata": {
        "id": "dbRabprrEaXl"
      },
      "outputs": [],
      "source": [
        "text_tags = my_tagger.parse(my_tokenizer.tokenize_words(text))"
      ]
    },
    {
      "cell_type": "code",
      "execution_count": 27,
      "metadata": {
        "id": "dvO0QXdYEaXm",
        "outputId": "ba70d64d-6570-43ad-add6-b222aa94f439",
        "colab": {
          "base_uri": "https://localhost:8080/"
        }
      },
      "outputs": [
        {
          "output_type": "stream",
          "name": "stdout",
          "text": [
            "[('این', 'DET'), ('سمینار', 'N_SING'), ('تا', 'P'), ('13', 'NUM'), ('شهریور', 'N_SING'), ('ادامه', 'N_SING'), ('می\\u200cیابد', 'V_PRS'), ('.', '.')]\n"
          ]
        }
      ],
      "source": [
        "print(text_tags)"
      ]
    },
    {
      "cell_type": "code",
      "execution_count": 28,
      "metadata": {
        "id": "apIlfuIYEaXn"
      },
      "outputs": [],
      "source": [
        "from parsivar import FindChunks"
      ]
    },
    {
      "cell_type": "code",
      "execution_count": 29,
      "metadata": {
        "id": "INXHrj5wEaXn"
      },
      "outputs": [],
      "source": [
        "my_chunker = FindChunks()"
      ]
    },
    {
      "cell_type": "code",
      "execution_count": 30,
      "metadata": {
        "id": "xNGC26fCEaXo"
      },
      "outputs": [],
      "source": [
        "chunks = my_chunker.chunk_sentence(text_tags)"
      ]
    },
    {
      "cell_type": "code",
      "execution_count": 31,
      "metadata": {
        "id": "LNpZUbvSEaXo",
        "outputId": "2089c6bc-dc80-45a9-f1be-0b381db4ddda",
        "colab": {
          "base_uri": "https://localhost:8080/"
        }
      },
      "outputs": [
        {
          "output_type": "stream",
          "name": "stdout",
          "text": [
            "[این سمینار DNP] [تا 13 شهریور NPP] [ادامه می‌یابد VP] .\n"
          ]
        }
      ],
      "source": [
        "print(my_chunker.convert_nestedtree2rawstring(chunks))"
      ]
    },
    {
      "cell_type": "code",
      "execution_count": 32,
      "metadata": {
        "id": "cSDn9EgbEaXp"
      },
      "outputs": [],
      "source": [
        "from parsivar import DependencyParser"
      ]
    },
    {
      "cell_type": "code",
      "execution_count": 33,
      "metadata": {
        "id": "QDGPfNczEaXp"
      },
      "outputs": [],
      "source": [
        "myparser = DependencyParser()"
      ]
    },
    {
      "cell_type": "code",
      "execution_count": 34,
      "metadata": {
        "id": "0rBKNQLwEaXp"
      },
      "outputs": [],
      "source": [
        "sents = \"اسبی که سراسیمه می دوید.\""
      ]
    },
    {
      "cell_type": "code",
      "execution_count": 35,
      "metadata": {
        "id": "j54yby_cEaXq"
      },
      "outputs": [],
      "source": [
        "sent_list = my_tokenizer.tokenize_sentences(sents)"
      ]
    },
    {
      "cell_type": "code",
      "execution_count": 36,
      "metadata": {
        "id": "wNVGvKLTggQb",
        "outputId": "8a528bd0-ebb9-4ef2-daf5-4258ab07fcc8",
        "colab": {
          "base_uri": "https://localhost:8080/"
        }
      },
      "outputs": [
        {
          "output_type": "execute_result",
          "data": {
            "text/plain": [
              "['اسبی که سراسیمه می دوید .']"
            ]
          },
          "metadata": {},
          "execution_count": 36
        }
      ],
      "source": [
        "sent_list"
      ]
    },
    {
      "cell_type": "code",
      "execution_count": 37,
      "metadata": {
        "id": "XGJ5_mOxEaXq"
      },
      "outputs": [],
      "source": [
        "parsed_sents = myparser.parse_sents(sent_list)"
      ]
    },
    {
      "cell_type": "code",
      "execution_count": 38,
      "metadata": {
        "id": "WMxjeXF-EaXr",
        "outputId": "0d5a0bef-f548-4082-c124-d59838f6a135",
        "colab": {
          "base_uri": "https://localhost:8080/"
        }
      },
      "outputs": [
        {
          "output_type": "stream",
          "name": "stdout",
          "text": [
            "(اسبی (که (دوید سراسیمه می)))\n"
          ]
        }
      ],
      "source": [
        "for depgraph in parsed_sents:\n",
        "    print(depgraph.tree())"
      ]
    },
    {
      "cell_type": "code",
      "execution_count": null,
      "metadata": {
        "id": "BPRe9byMEaXs"
      },
      "outputs": [],
      "source": [
        "from parsivar import SpellCheck"
      ]
    },
    {
      "cell_type": "markdown",
      "metadata": {
        "id": "t3eAVJHIggQd"
      },
      "source": [
        "To use the spell checker module download it's resources from\n",
        "https://www.dropbox.com/s/tlyvnzv1ha9y1kl/spell.zip?dl=0\n",
        "and after extraction copy the spell/ directory to parsivar/resource."
      ]
    },
    {
      "cell_type": "markdown",
      "metadata": {
        "id": "vZ0AVv-2ggQf"
      },
      "source": [
        "FileNotFoundError: [Errno 2] No such file or directory: 'C:\\\\Users\\\\Mohammad\\\\AppData\\\\Local\\\\Programs\\\\Python\\\\Python39\\\\Lib\\\\site-packages\\\\parsivar/resource/spell/mybigram_lm.pckl'"
      ]
    },
    {
      "cell_type": "markdown",
      "metadata": {
        "id": "ZMAQJU0SggQg"
      },
      "source": [
        "C:\\Users\\Mohammad\\AppData\\Local\\Programs\\Python\\Python39\\Lib\\site-packages\\parsivar\\resource"
      ]
    },
    {
      "cell_type": "code",
      "execution_count": null,
      "metadata": {
        "id": "N5e0OdffEaXs"
      },
      "outputs": [],
      "source": [
        "myspell_checker = SpellCheck()"
      ]
    },
    {
      "cell_type": "code",
      "execution_count": null,
      "metadata": {
        "id": "Nrxbv4RWEaXs"
      },
      "outputs": [],
      "source": [
        "res = myspell_checker.spell_corrector(\"نمازگذاران وارد مسلی شدند.\")"
      ]
    },
    {
      "cell_type": "code",
      "execution_count": null,
      "metadata": {
        "id": "Tp73_0KcEaXs",
        "outputId": "659503c5-ad73-4b03-a389-87fe8ec15c14"
      },
      "outputs": [
        {
          "data": {
            "text/plain": [
              "'نمازگزاران وارد مصلی شدند .'"
            ]
          },
          "execution_count": 42,
          "metadata": {},
          "output_type": "execute_result"
        }
      ],
      "source": [
        "res"
      ]
    },
    {
      "cell_type": "code",
      "execution_count": null,
      "metadata": {
        "id": "kKPYLi-qggQk"
      },
      "outputs": [],
      "source": [
        ""
      ]
    },
    {
      "cell_type": "code",
      "execution_count": null,
      "metadata": {
        "id": "fASjiW9qggQk"
      },
      "outputs": [],
      "source": [
        ""
      ]
    }
  ],
  "metadata": {
    "colab": {
      "name": "Parsivar.ipynb",
      "provenance": []
    },
    "kernelspec": {
      "display_name": "Python 3 (ipykernel)",
      "language": "python",
      "name": "python3"
    },
    "language_info": {
      "codemirror_mode": {
        "name": "ipython",
        "version": 3
      },
      "file_extension": ".py",
      "mimetype": "text/x-python",
      "name": "python",
      "nbconvert_exporter": "python",
      "pygments_lexer": "ipython3",
      "version": "3.9.6"
    }
  },
  "nbformat": 4,
  "nbformat_minor": 0
}